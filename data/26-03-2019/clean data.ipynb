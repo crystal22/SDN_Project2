{
  "cells": [
    {
      "cell_type": "code",
      "source": [
        "import pandas as pd"
      ],
      "outputs": [],
      "execution_count": 1,
      "metadata": {}
    },
    {
      "cell_type": "code",
      "source": [
        "!dir *.csv"
      ],
      "outputs": [
        {
          "output_type": "stream",
          "name": "stdout",
          "text": [
            " Volume in drive C is Windows\n",
            " Volume Serial Number is 824C-A416\n",
            "\n",
            " Directory of C:\\Users\\ap47240\\Dropbox (VANTIEN.IT)\\01- 2019\\project\\data\\26-03-2019\n",
            "\n",
            "25-03-19  07:36 AM        14,864,051 apDashboardClientsDetails1.csv\n",
            "26-03-19  07:36 AM        14,546,704 apDashboardClientsDetails2.csv\n",
            "               2 File(s)     29,410,755 bytes\n",
            "               0 Dir(s)  76,254,724,096 bytes free\n"
          ]
        }
      ],
      "execution_count": 2,
      "metadata": {}
    },
    {
      "cell_type": "code",
      "source": [
        "data1 = pd.read_csv(\"apDashboardClientsDetails1.csv\",skiprows=1, index_col=False)\n",
        "data2 = pd.read_csv(\"apDashboardClientsDetails2.csv\",skiprows=1, index_col=False)"
      ],
      "outputs": [],
      "execution_count": 3,
      "metadata": {}
    },
    {
      "cell_type": "markdown",
      "source": [
        "## Get the data from same access point"
      ],
      "metadata": {}
    },
    {
      "cell_type": "code",
      "source": [
        "# combine data\n",
        "data = pd.concat([data1, data2])"
      ],
      "outputs": [],
      "execution_count": 4,
      "metadata": {}
    },
    {
      "cell_type": "code",
      "source": [
        "data.columns"
      ],
      "outputs": [
        {
          "output_type": "execute_result",
          "execution_count": 5,
          "data": {
            "text/plain": [
              "Index(['Client', 'AP', 'Band', 'Date time', 'staName', 'alias', 'txBitrate',\n",
              "       'rxBitrate', 'ulthroughput', 'dlthroughput', 'channelFreq', 'txPower',\n",
              "       'txPer', 'txPfr', 'txPrr', 'signalStrength', 'time_axis', 'bssid',\n",
              "       'ssid'],\n",
              "      dtype='object')"
            ]
          },
          "metadata": {}
        }
      ],
      "execution_count": 5,
      "metadata": {}
    },
    {
      "cell_type": "code",
      "source": [
        "synchro = data[data.ssid == 'Synchro_SON'].copy()"
      ],
      "outputs": [],
      "execution_count": 6,
      "metadata": {}
    },
    {
      "cell_type": "code",
      "source": [
        "synchro.head()"
      ],
      "outputs": [
        {
          "output_type": "execute_result",
          "execution_count": 7,
          "data": {
            "text/plain": [
              "                  Client                 AP  Band            Date time  \\\n",
              "33786  38:53:9c:97:96:53  04:bf:6d:5e:11:7b   2.4  2019-03-25 18:15:01   \n",
              "33787  38:53:9c:97:96:53  04:bf:6d:5e:11:7b   2.4  2019-03-25 18:34:01   \n",
              "33788  38:53:9c:97:96:53  04:bf:6d:5e:11:7b   2.4  2019-03-25 18:35:01   \n",
              "33789  38:53:9c:97:96:53  04:bf:6d:5e:11:7b   2.4  2019-03-25 18:36:01   \n",
              "33790  38:53:9c:97:96:53  04:bf:6d:5e:11:7b   2.4  2019-03-25 18:37:01   \n",
              "\n",
              "       staName  alias  txBitrate  rxBitrate  ulthroughput  dlthroughput  \\\n",
              "33786      NaN    NaN        108         39             0             0   \n",
              "33787      NaN    NaN         65          1             0             0   \n",
              "33788      NaN    NaN         19          1           976          1720   \n",
              "33789      NaN    NaN         19          1             0             0   \n",
              "33790      NaN    NaN         19          1             0             0   \n",
              "\n",
              "       channelFreq  txPower  txPer  txPfr  txPrr  signalStrength  \\\n",
              "33786         2412       20      0      0      0           -54.0   \n",
              "33787         2412       20      0      0      0           -64.0   \n",
              "33788         2412       20      0      0      0           -80.0   \n",
              "33789         2412       20      0      0      0           -80.0   \n",
              "33790         2412       20      0      0      0           -79.0   \n",
              "\n",
              "           time_axis              bssid         ssid  \n",
              "33786  1553552101301  04:bf:6d:5e:11:78  Synchro_SON  \n",
              "33787  1553553241247  04:bf:6d:5e:11:78  Synchro_SON  \n",
              "33788  1553553301301  04:bf:6d:5e:11:78  Synchro_SON  \n",
              "33789  1553553361259  04:bf:6d:5e:11:78  Synchro_SON  \n",
              "33790  1553553421315  04:bf:6d:5e:11:78  Synchro_SON  "
            ],
            "text/html": [
              "<div>\n",
              "<style scoped>\n",
              "    .dataframe tbody tr th:only-of-type {\n",
              "        vertical-align: middle;\n",
              "    }\n",
              "\n",
              "    .dataframe tbody tr th {\n",
              "        vertical-align: top;\n",
              "    }\n",
              "\n",
              "    .dataframe thead th {\n",
              "        text-align: right;\n",
              "    }\n",
              "</style>\n",
              "<table border=\"1\" class=\"dataframe\">\n",
              "  <thead>\n",
              "    <tr style=\"text-align: right;\">\n",
              "      <th></th>\n",
              "      <th>Client</th>\n",
              "      <th>AP</th>\n",
              "      <th>Band</th>\n",
              "      <th>Date time</th>\n",
              "      <th>staName</th>\n",
              "      <th>alias</th>\n",
              "      <th>txBitrate</th>\n",
              "      <th>rxBitrate</th>\n",
              "      <th>ulthroughput</th>\n",
              "      <th>dlthroughput</th>\n",
              "      <th>channelFreq</th>\n",
              "      <th>txPower</th>\n",
              "      <th>txPer</th>\n",
              "      <th>txPfr</th>\n",
              "      <th>txPrr</th>\n",
              "      <th>signalStrength</th>\n",
              "      <th>time_axis</th>\n",
              "      <th>bssid</th>\n",
              "      <th>ssid</th>\n",
              "    </tr>\n",
              "  </thead>\n",
              "  <tbody>\n",
              "    <tr>\n",
              "      <th>33786</th>\n",
              "      <td>38:53:9c:97:96:53</td>\n",
              "      <td>04:bf:6d:5e:11:7b</td>\n",
              "      <td>2.4</td>\n",
              "      <td>2019-03-25 18:15:01</td>\n",
              "      <td>NaN</td>\n",
              "      <td>NaN</td>\n",
              "      <td>108</td>\n",
              "      <td>39</td>\n",
              "      <td>0</td>\n",
              "      <td>0</td>\n",
              "      <td>2412</td>\n",
              "      <td>20</td>\n",
              "      <td>0</td>\n",
              "      <td>0</td>\n",
              "      <td>0</td>\n",
              "      <td>-54.0</td>\n",
              "      <td>1553552101301</td>\n",
              "      <td>04:bf:6d:5e:11:78</td>\n",
              "      <td>Synchro_SON</td>\n",
              "    </tr>\n",
              "    <tr>\n",
              "      <th>33787</th>\n",
              "      <td>38:53:9c:97:96:53</td>\n",
              "      <td>04:bf:6d:5e:11:7b</td>\n",
              "      <td>2.4</td>\n",
              "      <td>2019-03-25 18:34:01</td>\n",
              "      <td>NaN</td>\n",
              "      <td>NaN</td>\n",
              "      <td>65</td>\n",
              "      <td>1</td>\n",
              "      <td>0</td>\n",
              "      <td>0</td>\n",
              "      <td>2412</td>\n",
              "      <td>20</td>\n",
              "      <td>0</td>\n",
              "      <td>0</td>\n",
              "      <td>0</td>\n",
              "      <td>-64.0</td>\n",
              "      <td>1553553241247</td>\n",
              "      <td>04:bf:6d:5e:11:78</td>\n",
              "      <td>Synchro_SON</td>\n",
              "    </tr>\n",
              "    <tr>\n",
              "      <th>33788</th>\n",
              "      <td>38:53:9c:97:96:53</td>\n",
              "      <td>04:bf:6d:5e:11:7b</td>\n",
              "      <td>2.4</td>\n",
              "      <td>2019-03-25 18:35:01</td>\n",
              "      <td>NaN</td>\n",
              "      <td>NaN</td>\n",
              "      <td>19</td>\n",
              "      <td>1</td>\n",
              "      <td>976</td>\n",
              "      <td>1720</td>\n",
              "      <td>2412</td>\n",
              "      <td>20</td>\n",
              "      <td>0</td>\n",
              "      <td>0</td>\n",
              "      <td>0</td>\n",
              "      <td>-80.0</td>\n",
              "      <td>1553553301301</td>\n",
              "      <td>04:bf:6d:5e:11:78</td>\n",
              "      <td>Synchro_SON</td>\n",
              "    </tr>\n",
              "    <tr>\n",
              "      <th>33789</th>\n",
              "      <td>38:53:9c:97:96:53</td>\n",
              "      <td>04:bf:6d:5e:11:7b</td>\n",
              "      <td>2.4</td>\n",
              "      <td>2019-03-25 18:36:01</td>\n",
              "      <td>NaN</td>\n",
              "      <td>NaN</td>\n",
              "      <td>19</td>\n",
              "      <td>1</td>\n",
              "      <td>0</td>\n",
              "      <td>0</td>\n",
              "      <td>2412</td>\n",
              "      <td>20</td>\n",
              "      <td>0</td>\n",
              "      <td>0</td>\n",
              "      <td>0</td>\n",
              "      <td>-80.0</td>\n",
              "      <td>1553553361259</td>\n",
              "      <td>04:bf:6d:5e:11:78</td>\n",
              "      <td>Synchro_SON</td>\n",
              "    </tr>\n",
              "    <tr>\n",
              "      <th>33790</th>\n",
              "      <td>38:53:9c:97:96:53</td>\n",
              "      <td>04:bf:6d:5e:11:7b</td>\n",
              "      <td>2.4</td>\n",
              "      <td>2019-03-25 18:37:01</td>\n",
              "      <td>NaN</td>\n",
              "      <td>NaN</td>\n",
              "      <td>19</td>\n",
              "      <td>1</td>\n",
              "      <td>0</td>\n",
              "      <td>0</td>\n",
              "      <td>2412</td>\n",
              "      <td>20</td>\n",
              "      <td>0</td>\n",
              "      <td>0</td>\n",
              "      <td>0</td>\n",
              "      <td>-79.0</td>\n",
              "      <td>1553553421315</td>\n",
              "      <td>04:bf:6d:5e:11:78</td>\n",
              "      <td>Synchro_SON</td>\n",
              "    </tr>\n",
              "  </tbody>\n",
              "</table>\n",
              "</div>"
            ]
          },
          "metadata": {}
        }
      ],
      "execution_count": 7,
      "metadata": {}
    },
    {
      "cell_type": "markdown",
      "source": [
        "## List of mac addresses\n",
        "ios1 = \"9C:E6:5E:44:F5:5E\" \n",
        "mac2 = \"78:31:c1:b8:ee:5c\"\n",
        "mac1 = \"e4:ce:8f:04:cb:ee\"\n",
        "android1 =  \"40:4e:36:93:bc:1f\" # pixel\n",
        "android2 = \"14:1a:a3:38:b3:e1\"\n",
        "ipad = \"CC:44:63:B7:72:67\""
      ],
      "metadata": {}
    },
    {
      "cell_type": "code",
      "source": [
        "## List of mac addresses\n",
        "ios1 = \"9c:e6:5e:44:f5:5e\" #\"9C:E6:5E:44:F5:5E\" \n",
        "mac2 = \"78:31:c1:b8:ee:5c\"\n",
        "mac1 = \"e4:ce:8f:04:cb:ee\"\n",
        "android1 =  \"40:4e:36:93:bc:1f\" # pixel\n",
        "android2 = \"14:1a:a3:38:b3:e1\"\n",
        "ipad = \"cc:44:63:b7:72:67\"#\"CC:44:63:B7:72:67\""
      ],
      "outputs": [],
      "execution_count": 8,
      "metadata": {}
    },
    {
      "cell_type": "code",
      "source": [
        "macs = [ios1, mac1, mac2, android1, android2, ipad]"
      ],
      "outputs": [],
      "execution_count": 9,
      "metadata": {}
    },
    {
      "cell_type": "code",
      "source": [
        "synchro[synchro.Client == android2].info()"
      ],
      "outputs": [
        {
          "output_type": "stream",
          "name": "stdout",
          "text": [
            "<class 'pandas.core.frame.DataFrame'>\n",
            "Int64Index: 0 entries\n",
            "Data columns (total 19 columns):\n",
            "Client            0 non-null object\n",
            "AP                0 non-null object\n",
            "Band              0 non-null float64\n",
            "Date time         0 non-null object\n",
            "staName           0 non-null float64\n",
            "alias             0 non-null float64\n",
            "txBitrate         0 non-null int64\n",
            "rxBitrate         0 non-null int64\n",
            "ulthroughput      0 non-null int64\n",
            "dlthroughput      0 non-null int64\n",
            "channelFreq       0 non-null int64\n",
            "txPower           0 non-null int64\n",
            "txPer             0 non-null int64\n",
            "txPfr             0 non-null int64\n",
            "txPrr             0 non-null int64\n",
            "signalStrength    0 non-null float64\n",
            "time_axis         0 non-null int64\n",
            "bssid             0 non-null object\n",
            "ssid              0 non-null object\n",
            "dtypes: float64(4), int64(10), object(5)\n",
            "memory usage: 0.0+ bytes\n"
          ]
        }
      ],
      "execution_count": 10,
      "metadata": {}
    },
    {
      "cell_type": "code",
      "source": [
        "android1_data  = synchro[synchro.Client == android1].copy()"
      ],
      "outputs": [],
      "execution_count": 11,
      "metadata": {}
    },
    {
      "cell_type": "code",
      "source": [
        "android2_data  = synchro[synchro.Client == android2].copy()"
      ],
      "outputs": [],
      "execution_count": 12,
      "metadata": {}
    },
    {
      "cell_type": "code",
      "source": [
        "mac1_data = synchro[synchro.Client == mac1].copy()"
      ],
      "outputs": [],
      "execution_count": 13,
      "metadata": {}
    },
    {
      "cell_type": "code",
      "source": [
        "mac2_data = synchro[synchro.Client == mac2].copy()"
      ],
      "outputs": [],
      "execution_count": 14,
      "metadata": {}
    },
    {
      "cell_type": "code",
      "source": [
        "ipad_data = synchro[synchro.Client == ipad].copy()"
      ],
      "outputs": [],
      "execution_count": 15,
      "metadata": {}
    },
    {
      "cell_type": "code",
      "source": [
        "ios1_data = synchro[synchro.Client == ios1].copy()"
      ],
      "outputs": [],
      "execution_count": 16,
      "metadata": {}
    },
    {
      "cell_type": "markdown",
      "source": [
        "## saving those data into csv for further analysis"
      ],
      "metadata": {}
    },
    {
      "cell_type": "code",
      "source": [
        "android1_data.to_csv(\"android1.csv\", index=False)\n",
        "android2_data.to_csv(\"android2.csv\", index=False)\n",
        "mac1_data.to_csv(\"mac1.csv\", index=False)\n",
        "mac2_data.to_csv(\"mac2.csv\", index=False)\n",
        "ipad_data.to_csv(\"ipad.csv\",index=False)\n",
        "ios1_data.to_csv(\"ios1.csv\",index=False)"
      ],
      "outputs": [],
      "execution_count": 17,
      "metadata": {}
    },
    {
      "cell_type": "code",
      "source": [
        "## read data before\n",
        "# temp = \"before/apDashboardClientsDetails.csv\"\n",
        "# df1 = pd.read_csv(temp, skiprows=1, index_col=False)\n"
      ],
      "outputs": [],
      "execution_count": 18,
      "metadata": {}
    },
    {
      "cell_type": "markdown",
      "source": [
        "## saving the synchron data"
      ],
      "metadata": {}
    },
    {
      "cell_type": "code",
      "source": [
        "synchro.to_csv(\"synchro.csv\",index=False)"
      ],
      "outputs": [],
      "execution_count": 19,
      "metadata": {}
    },
    {
      "cell_type": "markdown",
      "source": [
        "## replace mac address by the client name"
      ],
      "metadata": {}
    },
    {
      "cell_type": "code",
      "source": [
        "# mod_synchro = synchro.copy()"
      ],
      "outputs": [],
      "execution_count": 116,
      "metadata": {}
    },
    {
      "cell_type": "code",
      "source": [
        "# mod_synchro.loc[mod_synchro.Client == mac1] = \"mac1\"\n",
        "# mod_synchro.loc[mod_synchro.Client == mac2] = \"mac2\"\n",
        "# mod_synchro.loc[mod_synchro.Client == android1] = \"android1\"\n",
        "# mod_synchro.loc[mod_synchro.Client == android2] = \"android2\"\n",
        "# mod_synchro.loc[mod_synchro.Client == ipad] = \"ipad\"\n",
        "# mod_synchro.loc[mod_synchro.Client == ios1] = \"ios1\""
      ],
      "outputs": [],
      "execution_count": 117,
      "metadata": {}
    },
    {
      "cell_type": "code",
      "source": [
        "# mod_synchro"
      ],
      "outputs": [],
      "execution_count": 118,
      "metadata": {}
    },
    {
      "cell_type": "code",
      "source": [],
      "outputs": [],
      "execution_count": null,
      "metadata": {}
    }
  ],
  "metadata": {
    "kernelspec": {
      "name": "python3",
      "language": "python",
      "display_name": "Python 3"
    },
    "language_info": {
      "name": "python",
      "version": "3.6.8",
      "mimetype": "text/x-python",
      "codemirror_mode": {
        "name": "ipython",
        "version": 3
      },
      "pygments_lexer": "ipython3",
      "nbconvert_exporter": "python",
      "file_extension": ".py"
    },
    "kernel_info": {
      "name": "python3"
    },
    "nteract": {
      "version": "0.12.3"
    }
  },
  "nbformat": 4,
  "nbformat_minor": 2
}