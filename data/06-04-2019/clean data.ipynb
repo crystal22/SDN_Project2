{
  "cells": [
    {
      "cell_type": "code",
      "source": [
        "import pandas as pd"
      ],
      "outputs": [],
      "execution_count": 2,
      "metadata": {}
    },
    {
      "cell_type": "code",
      "source": [
        "!dir *.csv"
      ],
      "outputs": [
        {
          "output_type": "stream",
          "name": "stdout",
          "text": [
            " Volume in drive C is Windows\n",
            " Volume Serial Number is 824C-A416\n",
            "\n",
            " Directory of C:\\Users\\ap47240\\Dropbox (VANTIEN.IT)\\01- 2019\\project\\data\\28-03-2019\n",
            "\n",
            "28-03-19  07:36 AM        13,775,549 apDashboardClientsDetails1.csv\n",
            "29-03-19  07:36 AM        13,532,807 apDashboardClientsDetails2.csv\n",
            "               2 File(s)     27,308,356 bytes\n",
            "               0 Dir(s)  72,370,515,968 bytes free\n"
          ]
        }
      ],
      "execution_count": 3,
      "metadata": {}
    },
    {
      "cell_type": "code",
      "source": [
        "data1 = pd.read_csv(\"apDashboardClientsDetails1.csv\",skiprows=1, index_col=False)\n",
        "data2 = pd.read_csv(\"apDashboardClientsDetails2.csv\",skiprows=1, index_col=False)"
      ],
      "outputs": [],
      "execution_count": 4,
      "metadata": {}
    },
    {
      "cell_type": "markdown",
      "source": [
        "## Get the data from same access point"
      ],
      "metadata": {}
    },
    {
      "cell_type": "code",
      "source": [
        "# combine data\n",
        "data = pd.concat([data1, data2])"
      ],
      "outputs": [],
      "execution_count": 5,
      "metadata": {}
    },
    {
      "cell_type": "code",
      "source": [
        "data.columns"
      ],
      "outputs": [
        {
          "output_type": "execute_result",
          "execution_count": 6,
          "data": {
            "text/plain": [
              "Index(['Client', 'AP', 'Band', 'Date time', 'staName', 'alias', 'txBitrate',\n",
              "       'rxBitrate', 'ulthroughput', 'dlthroughput', 'channelFreq', 'txPower',\n",
              "       'txPer', 'txPfr', 'txPrr', 'signalStrength', 'time_axis', 'bssid',\n",
              "       'ssid'],\n",
              "      dtype='object')"
            ]
          },
          "metadata": {}
        }
      ],
      "execution_count": 6,
      "metadata": {}
    },
    {
      "cell_type": "code",
      "source": [
        "synchro = data[data.ssid == 'Synchro_SON'].copy()"
      ],
      "outputs": [],
      "execution_count": 7,
      "metadata": {}
    },
    {
      "cell_type": "code",
      "source": [
        "synchro.head()"
      ],
      "outputs": [
        {
          "output_type": "execute_result",
          "execution_count": 8,
          "data": {
            "text/plain": [
              "                  Client                 AP  Band            Date time  \\\n",
              "31257  e4:ce:8f:04:cb:ee  04:bf:6d:5e:11:7b   2.4  2019-03-28 11:21:31   \n",
              "31258  e4:ce:8f:04:cb:ee  04:bf:6d:5e:11:7b   2.4  2019-03-28 11:39:01   \n",
              "31259  e4:ce:8f:04:cb:ee  04:bf:6d:5e:11:7b   2.4  2019-03-28 11:41:31   \n",
              "31260  e4:ce:8f:04:cb:ee  04:bf:6d:5e:11:7b   2.4  2019-03-28 11:42:31   \n",
              "31261  e4:ce:8f:04:cb:ee  04:bf:6d:5e:11:7b   2.4  2019-03-28 11:43:31   \n",
              "\n",
              "       staName  alias  txBitrate  rxBitrate  ulthroughput  dlthroughput  \\\n",
              "31257      NaN    NaN        216        216             0             0   \n",
              "31258      NaN    NaN        215        175             0             0   \n",
              "31259      NaN    NaN        214        173         88536         77216   \n",
              "31260      NaN    NaN        204        174         96408        123000   \n",
              "31261      NaN    NaN        182        195         88552         61736   \n",
              "\n",
              "       channelFreq  txPower  txPer  txPfr  txPrr  signalStrength  \\\n",
              "31257         2437       20      0      0      0           -35.0   \n",
              "31258         2412       20      0      0      0           -42.0   \n",
              "31259         2437       20      0      0      0           -35.0   \n",
              "31260         2437       20      0      0      0           -38.0   \n",
              "31261         2437       20      0      0      0           -35.0   \n",
              "\n",
              "           time_axis              bssid         ssid  \n",
              "31257  1553786491268  04:bf:6d:5e:11:78  Synchro_SON  \n",
              "31258  1553787541318  04:bf:6d:5e:11:78  Synchro_SON  \n",
              "31259  1553787691265  04:bf:6d:5e:11:78  Synchro_SON  \n",
              "31260  1553787751307  04:bf:6d:5e:11:78  Synchro_SON  \n",
              "31261  1553787811254  04:bf:6d:5e:11:78  Synchro_SON  "
            ],
            "text/html": [
              "<div>\n",
              "<style scoped>\n",
              "    .dataframe tbody tr th:only-of-type {\n",
              "        vertical-align: middle;\n",
              "    }\n",
              "\n",
              "    .dataframe tbody tr th {\n",
              "        vertical-align: top;\n",
              "    }\n",
              "\n",
              "    .dataframe thead th {\n",
              "        text-align: right;\n",
              "    }\n",
              "</style>\n",
              "<table border=\"1\" class=\"dataframe\">\n",
              "  <thead>\n",
              "    <tr style=\"text-align: right;\">\n",
              "      <th></th>\n",
              "      <th>Client</th>\n",
              "      <th>AP</th>\n",
              "      <th>Band</th>\n",
              "      <th>Date time</th>\n",
              "      <th>staName</th>\n",
              "      <th>alias</th>\n",
              "      <th>txBitrate</th>\n",
              "      <th>rxBitrate</th>\n",
              "      <th>ulthroughput</th>\n",
              "      <th>dlthroughput</th>\n",
              "      <th>channelFreq</th>\n",
              "      <th>txPower</th>\n",
              "      <th>txPer</th>\n",
              "      <th>txPfr</th>\n",
              "      <th>txPrr</th>\n",
              "      <th>signalStrength</th>\n",
              "      <th>time_axis</th>\n",
              "      <th>bssid</th>\n",
              "      <th>ssid</th>\n",
              "    </tr>\n",
              "  </thead>\n",
              "  <tbody>\n",
              "    <tr>\n",
              "      <th>31257</th>\n",
              "      <td>e4:ce:8f:04:cb:ee</td>\n",
              "      <td>04:bf:6d:5e:11:7b</td>\n",
              "      <td>2.4</td>\n",
              "      <td>2019-03-28 11:21:31</td>\n",
              "      <td>NaN</td>\n",
              "      <td>NaN</td>\n",
              "      <td>216</td>\n",
              "      <td>216</td>\n",
              "      <td>0</td>\n",
              "      <td>0</td>\n",
              "      <td>2437</td>\n",
              "      <td>20</td>\n",
              "      <td>0</td>\n",
              "      <td>0</td>\n",
              "      <td>0</td>\n",
              "      <td>-35.0</td>\n",
              "      <td>1553786491268</td>\n",
              "      <td>04:bf:6d:5e:11:78</td>\n",
              "      <td>Synchro_SON</td>\n",
              "    </tr>\n",
              "    <tr>\n",
              "      <th>31258</th>\n",
              "      <td>e4:ce:8f:04:cb:ee</td>\n",
              "      <td>04:bf:6d:5e:11:7b</td>\n",
              "      <td>2.4</td>\n",
              "      <td>2019-03-28 11:39:01</td>\n",
              "      <td>NaN</td>\n",
              "      <td>NaN</td>\n",
              "      <td>215</td>\n",
              "      <td>175</td>\n",
              "      <td>0</td>\n",
              "      <td>0</td>\n",
              "      <td>2412</td>\n",
              "      <td>20</td>\n",
              "      <td>0</td>\n",
              "      <td>0</td>\n",
              "      <td>0</td>\n",
              "      <td>-42.0</td>\n",
              "      <td>1553787541318</td>\n",
              "      <td>04:bf:6d:5e:11:78</td>\n",
              "      <td>Synchro_SON</td>\n",
              "    </tr>\n",
              "    <tr>\n",
              "      <th>31259</th>\n",
              "      <td>e4:ce:8f:04:cb:ee</td>\n",
              "      <td>04:bf:6d:5e:11:7b</td>\n",
              "      <td>2.4</td>\n",
              "      <td>2019-03-28 11:41:31</td>\n",
              "      <td>NaN</td>\n",
              "      <td>NaN</td>\n",
              "      <td>214</td>\n",
              "      <td>173</td>\n",
              "      <td>88536</td>\n",
              "      <td>77216</td>\n",
              "      <td>2437</td>\n",
              "      <td>20</td>\n",
              "      <td>0</td>\n",
              "      <td>0</td>\n",
              "      <td>0</td>\n",
              "      <td>-35.0</td>\n",
              "      <td>1553787691265</td>\n",
              "      <td>04:bf:6d:5e:11:78</td>\n",
              "      <td>Synchro_SON</td>\n",
              "    </tr>\n",
              "    <tr>\n",
              "      <th>31260</th>\n",
              "      <td>e4:ce:8f:04:cb:ee</td>\n",
              "      <td>04:bf:6d:5e:11:7b</td>\n",
              "      <td>2.4</td>\n",
              "      <td>2019-03-28 11:42:31</td>\n",
              "      <td>NaN</td>\n",
              "      <td>NaN</td>\n",
              "      <td>204</td>\n",
              "      <td>174</td>\n",
              "      <td>96408</td>\n",
              "      <td>123000</td>\n",
              "      <td>2437</td>\n",
              "      <td>20</td>\n",
              "      <td>0</td>\n",
              "      <td>0</td>\n",
              "      <td>0</td>\n",
              "      <td>-38.0</td>\n",
              "      <td>1553787751307</td>\n",
              "      <td>04:bf:6d:5e:11:78</td>\n",
              "      <td>Synchro_SON</td>\n",
              "    </tr>\n",
              "    <tr>\n",
              "      <th>31261</th>\n",
              "      <td>e4:ce:8f:04:cb:ee</td>\n",
              "      <td>04:bf:6d:5e:11:7b</td>\n",
              "      <td>2.4</td>\n",
              "      <td>2019-03-28 11:43:31</td>\n",
              "      <td>NaN</td>\n",
              "      <td>NaN</td>\n",
              "      <td>182</td>\n",
              "      <td>195</td>\n",
              "      <td>88552</td>\n",
              "      <td>61736</td>\n",
              "      <td>2437</td>\n",
              "      <td>20</td>\n",
              "      <td>0</td>\n",
              "      <td>0</td>\n",
              "      <td>0</td>\n",
              "      <td>-35.0</td>\n",
              "      <td>1553787811254</td>\n",
              "      <td>04:bf:6d:5e:11:78</td>\n",
              "      <td>Synchro_SON</td>\n",
              "    </tr>\n",
              "  </tbody>\n",
              "</table>\n",
              "</div>"
            ]
          },
          "metadata": {}
        }
      ],
      "execution_count": 8,
      "metadata": {}
    },
    {
      "cell_type": "markdown",
      "source": [
        "## List of mac addresses\n",
        "ios1 = \"9C:E6:5E:44:F5:5E\" \n",
        "mac2 = \"78:31:c1:b8:ee:5c\"\n",
        "mac1 = \"e4:ce:8f:04:cb:ee\"\n",
        "android1 =  \"40:4e:36:93:bc:1f\" # pixel\n",
        "android2 = \"14:1a:a3:38:b3:e1\"\n",
        "ipad = \"CC:44:63:B7:72:67\""
      ],
      "metadata": {}
    },
    {
      "cell_type": "code",
      "source": [
        "## List of mac addresses\n",
        "ios1 = \"9c:e6:5e:44:f5:5e\" #\"9C:E6:5E:44:F5:5E\" \n",
        "mac2 = \"78:31:c1:b8:ee:5c\"\n",
        "mac1 = \"e4:ce:8f:04:cb:ee\"\n",
        "android1 =  \"40:4e:36:93:bc:1f\" # pixel\n",
        "android2 = \"14:1a:a3:38:b3:e1\"\n",
        "ipad = \"cc:44:63:b7:72:67\"#\"CC:44:63:B7:72:67\""
      ],
      "outputs": [],
      "execution_count": 9,
      "metadata": {}
    },
    {
      "cell_type": "code",
      "source": [
        "macs = [ios1, mac1, mac2, android1, android2, ipad]"
      ],
      "outputs": [],
      "execution_count": 10,
      "metadata": {}
    },
    {
      "cell_type": "code",
      "source": [
        "synchro[synchro.Client == android2].info()"
      ],
      "outputs": [
        {
          "output_type": "stream",
          "name": "stdout",
          "text": [
            "<class 'pandas.core.frame.DataFrame'>\n",
            "Int64Index: 0 entries\n",
            "Data columns (total 19 columns):\n",
            "Client            0 non-null object\n",
            "AP                0 non-null object\n",
            "Band              0 non-null float64\n",
            "Date time         0 non-null object\n",
            "staName           0 non-null float64\n",
            "alias             0 non-null float64\n",
            "txBitrate         0 non-null int64\n",
            "rxBitrate         0 non-null int64\n",
            "ulthroughput      0 non-null int64\n",
            "dlthroughput      0 non-null int64\n",
            "channelFreq       0 non-null int64\n",
            "txPower           0 non-null int64\n",
            "txPer             0 non-null int64\n",
            "txPfr             0 non-null int64\n",
            "txPrr             0 non-null int64\n",
            "signalStrength    0 non-null float64\n",
            "time_axis         0 non-null int64\n",
            "bssid             0 non-null object\n",
            "ssid              0 non-null object\n",
            "dtypes: float64(4), int64(10), object(5)\n",
            "memory usage: 0.0+ bytes\n"
          ]
        }
      ],
      "execution_count": 11,
      "metadata": {}
    },
    {
      "cell_type": "code",
      "source": [
        "android1_data  = synchro[synchro.Client == android1].copy()"
      ],
      "outputs": [],
      "execution_count": 12,
      "metadata": {}
    },
    {
      "cell_type": "code",
      "source": [
        "android2_data  = synchro[synchro.Client == android2].copy()"
      ],
      "outputs": [],
      "execution_count": 13,
      "metadata": {}
    },
    {
      "cell_type": "code",
      "source": [
        "mac1_data = synchro[synchro.Client == mac1].copy()"
      ],
      "outputs": [],
      "execution_count": 14,
      "metadata": {}
    },
    {
      "cell_type": "code",
      "source": [
        "mac2_data = synchro[synchro.Client == mac2].copy()"
      ],
      "outputs": [],
      "execution_count": 15,
      "metadata": {}
    },
    {
      "cell_type": "code",
      "source": [
        "ipad_data = synchro[synchro.Client == ipad].copy()"
      ],
      "outputs": [],
      "execution_count": 16,
      "metadata": {}
    },
    {
      "cell_type": "code",
      "source": [
        "ios1_data = synchro[synchro.Client == ios1].copy()"
      ],
      "outputs": [],
      "execution_count": 17,
      "metadata": {}
    },
    {
      "cell_type": "markdown",
      "source": [
        "## saving those data into csv for further analysis"
      ],
      "metadata": {}
    },
    {
      "cell_type": "code",
      "source": [
        "android1_data.to_csv(\"android1.csv\", index=False)\n",
        "android2_data.to_csv(\"android2.csv\", index=False)\n",
        "mac1_data.to_csv(\"mac1.csv\", index=False)\n",
        "mac2_data.to_csv(\"mac2.csv\", index=False)\n",
        "ipad_data.to_csv(\"ipad.csv\",index=False)\n",
        "ios1_data.to_csv(\"ios1.csv\",index=False)"
      ],
      "outputs": [],
      "execution_count": 18,
      "metadata": {}
    },
    {
      "cell_type": "code",
      "source": [
        "## read data before\n",
        "# temp = \"before/apDashboardClientsDetails.csv\"\n",
        "# df1 = pd.read_csv(temp, skiprows=1, index_col=False)\n"
      ],
      "outputs": [],
      "execution_count": 19,
      "metadata": {}
    },
    {
      "cell_type": "markdown",
      "source": [
        "## saving the synchron data"
      ],
      "metadata": {}
    },
    {
      "cell_type": "code",
      "source": [
        "synchro.to_csv(\"synchro.csv\",index=False)"
      ],
      "outputs": [],
      "execution_count": 20,
      "metadata": {}
    },
    {
      "cell_type": "markdown",
      "source": [
        "## replace mac address by the client name"
      ],
      "metadata": {}
    },
    {
      "cell_type": "code",
      "source": [
        "# mod_synchro = synchro.copy()"
      ],
      "outputs": [],
      "execution_count": 21,
      "metadata": {}
    },
    {
      "cell_type": "code",
      "source": [
        "# mod_synchro.loc[mod_synchro.Client == mac1] = \"mac1\"\n",
        "# mod_synchro.loc[mod_synchro.Client == mac2] = \"mac2\"\n",
        "# mod_synchro.loc[mod_synchro.Client == android1] = \"android1\"\n",
        "# mod_synchro.loc[mod_synchro.Client == android2] = \"android2\"\n",
        "# mod_synchro.loc[mod_synchro.Client == ipad] = \"ipad\"\n",
        "# mod_synchro.loc[mod_synchro.Client == ios1] = \"ios1\""
      ],
      "outputs": [],
      "execution_count": 22,
      "metadata": {}
    },
    {
      "cell_type": "code",
      "source": [
        "# mod_synchro"
      ],
      "outputs": [],
      "execution_count": 23,
      "metadata": {}
    },
    {
      "cell_type": "code",
      "source": [],
      "outputs": [],
      "execution_count": null,
      "metadata": {}
    }
  ],
  "metadata": {
    "kernelspec": {
      "name": "python3",
      "language": "python",
      "display_name": "Python 3"
    },
    "language_info": {
      "name": "python",
      "version": "3.6.8",
      "mimetype": "text/x-python",
      "codemirror_mode": {
        "name": "ipython",
        "version": 3
      },
      "pygments_lexer": "ipython3",
      "nbconvert_exporter": "python",
      "file_extension": ".py"
    },
    "kernel_info": {
      "name": "python3"
    },
    "nteract": {
      "version": "0.12.3"
    }
  },
  "nbformat": 4,
  "nbformat_minor": 2
}