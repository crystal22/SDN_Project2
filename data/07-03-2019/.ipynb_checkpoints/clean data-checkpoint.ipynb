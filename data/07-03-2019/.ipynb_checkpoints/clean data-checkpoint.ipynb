{
 "cells": [
  {
   "cell_type": "code",
   "execution_count": 95,
   "metadata": {},
   "outputs": [],
   "source": [
    "import pandas as pd"
   ]
  },
  {
   "cell_type": "code",
   "execution_count": 96,
   "metadata": {},
   "outputs": [],
   "source": [
    "# df = pd.read_csv(\"verity.csv\")\n",
    "# ap_name = 'Synchro_SON'"
   ]
  },
  {
   "cell_type": "code",
   "execution_count": 97,
   "metadata": {},
   "outputs": [
    {
     "name": "stdout",
     "output_type": "stream",
     "text": [
      " Volume in drive C is Windows\n",
      " Volume Serial Number is 824C-A416\n",
      "\n",
      " Directory of C:\\Users\\ap47240\\Dropbox (VANTIEN.IT)\\01- 2019\\project\\data\\07-03-2019\n",
      "\n",
      "07-03-19  08:36 AM        15,903,521 1apDashboardClientsDetails.csv\n",
      "08-03-19  08:36 AM        15,903,904 2apDashboardClientsDetails.csv\n",
      "11-03-19  10:07 AM             7,207 android1.csv\n",
      "11-03-19  10:07 AM             6,900 android2.csv\n",
      "11-03-19  10:07 AM               160 ios1.csv\n",
      "11-03-19  10:07 AM               160 ipad.csv\n",
      "11-03-19  10:07 AM             7,310 mac1.csv\n",
      "11-03-19  10:07 AM             7,353 mac2.csv\n",
      "11-03-19  10:20 AM            51,989 mod_synchro.csv\n",
      "11-03-19  10:10 AM            54,199 synchro.csv\n",
      "              10 File(s)     31,942,703 bytes\n",
      "               0 Dir(s)  97,244,131,328 bytes free\n"
     ]
    }
   ],
   "source": [
    "!dir *.csv"
   ]
  },
  {
   "cell_type": "code",
   "execution_count": 98,
   "metadata": {},
   "outputs": [],
   "source": [
    "data1 = pd.read_csv(\"1apDashboardClientsDetails.csv\",skiprows=1, index_col=False)\n",
    "data2 = pd.read_csv(\"2apDashboardClientsDetails.csv\",skiprows=1, index_col=False)"
   ]
  },
  {
   "cell_type": "markdown",
   "metadata": {},
   "source": [
    "## Get the data from same access point"
   ]
  },
  {
   "cell_type": "code",
   "execution_count": 99,
   "metadata": {},
   "outputs": [],
   "source": [
    "# combine data\n",
    "data = pd.concat([data1, data2])"
   ]
  },
  {
   "cell_type": "code",
   "execution_count": 100,
   "metadata": {},
   "outputs": [
    {
     "data": {
      "text/plain": [
       "Index(['Client', 'AP', 'Band', 'Date time', 'staName', 'alias', 'txBitrate',\n",
       "       'rxBitrate', 'ulthroughput', 'dlthroughput', 'channelFreq', 'txPower',\n",
       "       'txPer', 'txPfr', 'txPrr', 'signalStrength', 'time_axis', 'bssid',\n",
       "       'ssid'],\n",
       "      dtype='object')"
      ]
     },
     "execution_count": 100,
     "metadata": {},
     "output_type": "execute_result"
    }
   ],
   "source": [
    "data.columns"
   ]
  },
  {
   "cell_type": "code",
   "execution_count": 101,
   "metadata": {},
   "outputs": [],
   "source": [
    "synchro = data[data.ssid == 'Synchro_SON'].copy()"
   ]
  },
  {
   "cell_type": "code",
   "execution_count": 102,
   "metadata": {},
   "outputs": [
    {
     "data": {
      "text/html": [
       "<div>\n",
       "<style scoped>\n",
       "    .dataframe tbody tr th:only-of-type {\n",
       "        vertical-align: middle;\n",
       "    }\n",
       "\n",
       "    .dataframe tbody tr th {\n",
       "        vertical-align: top;\n",
       "    }\n",
       "\n",
       "    .dataframe thead th {\n",
       "        text-align: right;\n",
       "    }\n",
       "</style>\n",
       "<table border=\"1\" class=\"dataframe\">\n",
       "  <thead>\n",
       "    <tr style=\"text-align: right;\">\n",
       "      <th></th>\n",
       "      <th>Client</th>\n",
       "      <th>AP</th>\n",
       "      <th>Band</th>\n",
       "      <th>Date time</th>\n",
       "      <th>staName</th>\n",
       "      <th>alias</th>\n",
       "      <th>txBitrate</th>\n",
       "      <th>rxBitrate</th>\n",
       "      <th>ulthroughput</th>\n",
       "      <th>dlthroughput</th>\n",
       "      <th>channelFreq</th>\n",
       "      <th>txPower</th>\n",
       "      <th>txPer</th>\n",
       "      <th>txPfr</th>\n",
       "      <th>txPrr</th>\n",
       "      <th>signalStrength</th>\n",
       "      <th>time_axis</th>\n",
       "      <th>bssid</th>\n",
       "      <th>ssid</th>\n",
       "    </tr>\n",
       "  </thead>\n",
       "  <tbody>\n",
       "    <tr>\n",
       "      <th>31343</th>\n",
       "      <td>38:59:f9:30:60:fc</td>\n",
       "      <td>04:bf:6d:5e:11:7b</td>\n",
       "      <td>2.4</td>\n",
       "      <td>2019-03-07 10:07:31</td>\n",
       "      <td>NaN</td>\n",
       "      <td>NaN</td>\n",
       "      <td>52</td>\n",
       "      <td>12</td>\n",
       "      <td>0</td>\n",
       "      <td>0</td>\n",
       "      <td>2437</td>\n",
       "      <td>20</td>\n",
       "      <td>0</td>\n",
       "      <td>0</td>\n",
       "      <td>0</td>\n",
       "      <td>-66.0</td>\n",
       "      <td>1551971251310</td>\n",
       "      <td>04:bf:6d:5e:11:78</td>\n",
       "      <td>Synchro_SON</td>\n",
       "    </tr>\n",
       "    <tr>\n",
       "      <th>31344</th>\n",
       "      <td>38:59:f9:30:60:fc</td>\n",
       "      <td>04:bf:6d:5e:11:7b</td>\n",
       "      <td>2.4</td>\n",
       "      <td>2019-03-07 10:10:01</td>\n",
       "      <td>NaN</td>\n",
       "      <td>NaN</td>\n",
       "      <td>97</td>\n",
       "      <td>7</td>\n",
       "      <td>56</td>\n",
       "      <td>0</td>\n",
       "      <td>2437</td>\n",
       "      <td>20</td>\n",
       "      <td>0</td>\n",
       "      <td>0</td>\n",
       "      <td>0</td>\n",
       "      <td>-60.0</td>\n",
       "      <td>1551971401292</td>\n",
       "      <td>04:bf:6d:5e:11:78</td>\n",
       "      <td>Synchro_SON</td>\n",
       "    </tr>\n",
       "    <tr>\n",
       "      <th>31345</th>\n",
       "      <td>38:59:f9:30:60:fc</td>\n",
       "      <td>04:bf:6d:5e:11:7b</td>\n",
       "      <td>2.4</td>\n",
       "      <td>2019-03-07 10:18:01</td>\n",
       "      <td>NaN</td>\n",
       "      <td>NaN</td>\n",
       "      <td>128</td>\n",
       "      <td>5</td>\n",
       "      <td>0</td>\n",
       "      <td>0</td>\n",
       "      <td>2412</td>\n",
       "      <td>20</td>\n",
       "      <td>0</td>\n",
       "      <td>0</td>\n",
       "      <td>0</td>\n",
       "      <td>-63.0</td>\n",
       "      <td>1551971881298</td>\n",
       "      <td>04:bf:6d:5e:11:78</td>\n",
       "      <td>Synchro_SON</td>\n",
       "    </tr>\n",
       "    <tr>\n",
       "      <th>31346</th>\n",
       "      <td>38:59:f9:30:60:fc</td>\n",
       "      <td>04:bf:6d:5e:11:7b</td>\n",
       "      <td>2.4</td>\n",
       "      <td>2019-03-07 10:19:31</td>\n",
       "      <td>NaN</td>\n",
       "      <td>NaN</td>\n",
       "      <td>125</td>\n",
       "      <td>8</td>\n",
       "      <td>840</td>\n",
       "      <td>552</td>\n",
       "      <td>2412</td>\n",
       "      <td>20</td>\n",
       "      <td>0</td>\n",
       "      <td>0</td>\n",
       "      <td>0</td>\n",
       "      <td>-61.0</td>\n",
       "      <td>1551971971292</td>\n",
       "      <td>04:bf:6d:5e:11:78</td>\n",
       "      <td>Synchro_SON</td>\n",
       "    </tr>\n",
       "    <tr>\n",
       "      <th>31347</th>\n",
       "      <td>38:59:f9:30:60:fc</td>\n",
       "      <td>04:bf:6d:5e:11:7b</td>\n",
       "      <td>2.4</td>\n",
       "      <td>2019-03-07 10:20:31</td>\n",
       "      <td>NaN</td>\n",
       "      <td>NaN</td>\n",
       "      <td>123</td>\n",
       "      <td>50</td>\n",
       "      <td>544</td>\n",
       "      <td>984</td>\n",
       "      <td>2412</td>\n",
       "      <td>20</td>\n",
       "      <td>0</td>\n",
       "      <td>0</td>\n",
       "      <td>0</td>\n",
       "      <td>-60.0</td>\n",
       "      <td>1551972031277</td>\n",
       "      <td>04:bf:6d:5e:11:78</td>\n",
       "      <td>Synchro_SON</td>\n",
       "    </tr>\n",
       "  </tbody>\n",
       "</table>\n",
       "</div>"
      ],
      "text/plain": [
       "                  Client                 AP  Band            Date time  \\\n",
       "31343  38:59:f9:30:60:fc  04:bf:6d:5e:11:7b   2.4  2019-03-07 10:07:31   \n",
       "31344  38:59:f9:30:60:fc  04:bf:6d:5e:11:7b   2.4  2019-03-07 10:10:01   \n",
       "31345  38:59:f9:30:60:fc  04:bf:6d:5e:11:7b   2.4  2019-03-07 10:18:01   \n",
       "31346  38:59:f9:30:60:fc  04:bf:6d:5e:11:7b   2.4  2019-03-07 10:19:31   \n",
       "31347  38:59:f9:30:60:fc  04:bf:6d:5e:11:7b   2.4  2019-03-07 10:20:31   \n",
       "\n",
       "       staName  alias  txBitrate  rxBitrate  ulthroughput  dlthroughput  \\\n",
       "31343      NaN    NaN         52         12             0             0   \n",
       "31344      NaN    NaN         97          7            56             0   \n",
       "31345      NaN    NaN        128          5             0             0   \n",
       "31346      NaN    NaN        125          8           840           552   \n",
       "31347      NaN    NaN        123         50           544           984   \n",
       "\n",
       "       channelFreq  txPower  txPer  txPfr  txPrr  signalStrength  \\\n",
       "31343         2437       20      0      0      0           -66.0   \n",
       "31344         2437       20      0      0      0           -60.0   \n",
       "31345         2412       20      0      0      0           -63.0   \n",
       "31346         2412       20      0      0      0           -61.0   \n",
       "31347         2412       20      0      0      0           -60.0   \n",
       "\n",
       "           time_axis              bssid         ssid  \n",
       "31343  1551971251310  04:bf:6d:5e:11:78  Synchro_SON  \n",
       "31344  1551971401292  04:bf:6d:5e:11:78  Synchro_SON  \n",
       "31345  1551971881298  04:bf:6d:5e:11:78  Synchro_SON  \n",
       "31346  1551971971292  04:bf:6d:5e:11:78  Synchro_SON  \n",
       "31347  1551972031277  04:bf:6d:5e:11:78  Synchro_SON  "
      ]
     },
     "execution_count": 102,
     "metadata": {},
     "output_type": "execute_result"
    }
   ],
   "source": [
    "synchro.head()"
   ]
  },
  {
   "cell_type": "markdown",
   "metadata": {},
   "source": [
    "## List of mac addresses\n",
    "ios1 = \"9C:E6:5E:44:F5:5E\" \n",
    "mac2 = \"78:31:c1:b8:ee:5c\"\n",
    "mac1 = \"e4:ce:8f:04:cb:ee\"\n",
    "android1 =  \"40:4e:36:93:bc:1f\" # pixel\n",
    "android2 = \"14:1a:a3:38:b3:e1\"\n",
    "ipad = \"CC:44:63:B7:72:67\""
   ]
  },
  {
   "cell_type": "code",
   "execution_count": 103,
   "metadata": {},
   "outputs": [],
   "source": [
    "## List of mac addresses\n",
    "ios1 = \"9c:e6:5e:44:f5:5e\" #\"9C:E6:5E:44:F5:5E\" \n",
    "mac2 = \"78:31:c1:b8:ee:5c\"\n",
    "mac1 = \"e4:ce:8f:04:cb:ee\"\n",
    "android1 =  \"40:4e:36:93:bc:1f\" # pixel\n",
    "android2 = \"14:1a:a3:38:b3:e1\"\n",
    "ipad = \"cc:44:63:b7:72:67\"#\"CC:44:63:B7:72:67\""
   ]
  },
  {
   "cell_type": "code",
   "execution_count": 104,
   "metadata": {},
   "outputs": [],
   "source": [
    "macs = [ios1, mac1, mac2, android1, android2, ipad]"
   ]
  },
  {
   "cell_type": "code",
   "execution_count": 105,
   "metadata": {},
   "outputs": [
    {
     "name": "stdout",
     "output_type": "stream",
     "text": [
      "<class 'pandas.core.frame.DataFrame'>\n",
      "Int64Index: 47 entries, 31398 to 31444\n",
      "Data columns (total 19 columns):\n",
      "Client            47 non-null object\n",
      "AP                47 non-null object\n",
      "Band              47 non-null float64\n",
      "Date time         47 non-null object\n",
      "staName           0 non-null float64\n",
      "alias             0 non-null float64\n",
      "txBitrate         47 non-null int64\n",
      "rxBitrate         47 non-null int64\n",
      "ulthroughput      47 non-null int64\n",
      "dlthroughput      47 non-null int64\n",
      "channelFreq       47 non-null int64\n",
      "txPower           47 non-null int64\n",
      "txPer             47 non-null int64\n",
      "txPfr             47 non-null int64\n",
      "txPrr             47 non-null int64\n",
      "signalStrength    47 non-null float64\n",
      "time_axis         47 non-null int64\n",
      "bssid             47 non-null object\n",
      "ssid              47 non-null object\n",
      "dtypes: float64(4), int64(10), object(5)\n",
      "memory usage: 7.3+ KB\n"
     ]
    }
   ],
   "source": [
    "synchro[synchro.Client == android2].info()"
   ]
  },
  {
   "cell_type": "code",
   "execution_count": 106,
   "metadata": {},
   "outputs": [],
   "source": [
    "android1_data  = synchro[synchro.Client == android1].copy()"
   ]
  },
  {
   "cell_type": "code",
   "execution_count": 107,
   "metadata": {},
   "outputs": [],
   "source": [
    "android2_data  = synchro[synchro.Client == android2].copy()"
   ]
  },
  {
   "cell_type": "code",
   "execution_count": 108,
   "metadata": {},
   "outputs": [],
   "source": [
    "mac1_data = synchro[synchro.Client == mac1].copy()"
   ]
  },
  {
   "cell_type": "code",
   "execution_count": 109,
   "metadata": {},
   "outputs": [],
   "source": [
    "mac2_data = synchro[synchro.Client == mac2].copy()"
   ]
  },
  {
   "cell_type": "code",
   "execution_count": 110,
   "metadata": {},
   "outputs": [],
   "source": [
    "ipad_data = synchro[synchro.Client == ipad].copy()"
   ]
  },
  {
   "cell_type": "code",
   "execution_count": 111,
   "metadata": {},
   "outputs": [],
   "source": [
    "ios1_data = synchro[synchro.Client == ios1].copy()"
   ]
  },
  {
   "cell_type": "markdown",
   "metadata": {},
   "source": [
    "## saving those data into csv for further analysis"
   ]
  },
  {
   "cell_type": "code",
   "execution_count": 112,
   "metadata": {},
   "outputs": [],
   "source": [
    "android1_data.to_csv(\"android1.csv\", index=False)\n",
    "android2_data.to_csv(\"android2.csv\", index=False)\n",
    "mac1_data.to_csv(\"mac1.csv\", index=False)\n",
    "mac2_data.to_csv(\"mac2.csv\", index=False)\n",
    "ipad_data.to_csv(\"ipad.csv\",index=False)\n",
    "ios1_data.to_csv(\"ios1.csv\",index=False)"
   ]
  },
  {
   "cell_type": "code",
   "execution_count": 113,
   "metadata": {},
   "outputs": [],
   "source": [
    "## read data before\n",
    "# temp = \"before/apDashboardClientsDetails.csv\"\n",
    "# df1 = pd.read_csv(temp, skiprows=1, index_col=False)\n"
   ]
  },
  {
   "cell_type": "markdown",
   "metadata": {},
   "source": [
    "## saving the synchron data"
   ]
  },
  {
   "cell_type": "code",
   "execution_count": 115,
   "metadata": {},
   "outputs": [],
   "source": [
    "synchro.to_csv(\"synchro.csv\",index=False)"
   ]
  },
  {
   "cell_type": "markdown",
   "metadata": {},
   "source": [
    "## replace mac address by the client name"
   ]
  },
  {
   "cell_type": "code",
   "execution_count": 116,
   "metadata": {},
   "outputs": [],
   "source": [
    "# mod_synchro = synchro.copy()"
   ]
  },
  {
   "cell_type": "code",
   "execution_count": 117,
   "metadata": {},
   "outputs": [],
   "source": [
    "# mod_synchro.loc[mod_synchro.Client == mac1] = \"mac1\"\n",
    "# mod_synchro.loc[mod_synchro.Client == mac2] = \"mac2\"\n",
    "# mod_synchro.loc[mod_synchro.Client == android1] = \"android1\"\n",
    "# mod_synchro.loc[mod_synchro.Client == android2] = \"android2\"\n",
    "# mod_synchro.loc[mod_synchro.Client == ipad] = \"ipad\"\n",
    "# mod_synchro.loc[mod_synchro.Client == ios1] = \"ios1\""
   ]
  },
  {
   "cell_type": "code",
   "execution_count": 118,
   "metadata": {},
   "outputs": [],
   "source": [
    "# mod_synchro"
   ]
  },
  {
   "cell_type": "code",
   "execution_count": null,
   "metadata": {},
   "outputs": [],
   "source": []
  }
 ],
 "metadata": {
  "kernelspec": {
   "display_name": "Python 3",
   "language": "python",
   "name": "python3"
  },
  "language_info": {
   "codemirror_mode": {
    "name": "ipython",
    "version": 3
   },
   "file_extension": ".py",
   "mimetype": "text/x-python",
   "name": "python",
   "nbconvert_exporter": "python",
   "pygments_lexer": "ipython3",
   "version": "3.6.8"
  }
 },
 "nbformat": 4,
 "nbformat_minor": 2
}
